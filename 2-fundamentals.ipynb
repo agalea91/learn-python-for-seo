{
 "cells": [
  {
   "cell_type": "markdown",
   "metadata": {},
   "source": [
    "# Learn Python for SEO\n",
    "Author: Alex Galea   \n",
    "Date: November 2016"
   ]
  },
  {
   "cell_type": "code",
   "execution_count": 2,
   "metadata": {
    "collapsed": false
   },
   "outputs": [
    {
     "name": "stdout",
     "output_type": "stream",
     "text": [
      "Python version: 3.5\n"
     ]
    }
   ],
   "source": [
    "import sys\n",
    "print('Python version: %s.%s' % (sys.version_info.major, sys.version_info.minor))"
   ]
  },
  {
   "cell_type": "markdown",
   "metadata": {
    "collapsed": true
   },
   "source": [
    "___\n",
    "## Tutorial 2: Fundamentals\n",
    "\n",
    " - Variable names\n",
    " - Datatypes\n",
    " - Data containers\n",
    " - Variable comparison\n",
    " - Arithmetic\n",
    " - Loops"
   ]
  },
  {
   "cell_type": "markdown",
   "metadata": {},
   "source": [
    "___\n",
    "### Variable names"
   ]
  },
  {
   "cell_type": "code",
   "execution_count": 3,
   "metadata": {
    "collapsed": true
   },
   "outputs": [],
   "source": [
    "# Good\n",
    "\n",
    "friend_name = 'Patel'"
   ]
  },
  {
   "cell_type": "code",
   "execution_count": 4,
   "metadata": {
    "collapsed": false
   },
   "outputs": [
    {
     "ename": "SyntaxError",
     "evalue": "can't assign to operator (<ipython-input-4-58de7e893c5c>, line 3)",
     "output_type": "error",
     "traceback": [
      "\u001b[0;36m  File \u001b[0;32m\"<ipython-input-4-58de7e893c5c>\"\u001b[0;36m, line \u001b[0;32m3\u001b[0m\n\u001b[0;31m    friend-name = 'Patel'\u001b[0m\n\u001b[0m                         ^\u001b[0m\n\u001b[0;31mSyntaxError\u001b[0m\u001b[0;31m:\u001b[0m can't assign to operator\n"
     ]
    }
   ],
   "source": [
    "# Bad\n",
    "\n",
    "friend-name = 'Patel'"
   ]
  },
  {
   "cell_type": "code",
   "execution_count": 5,
   "metadata": {
    "collapsed": true
   },
   "outputs": [],
   "source": [
    "# Use an illigal variable name to re-create the above SyntaxError\n",
    "# Your variable name cannot contain the \"-\" character!\n",
    "\n",
    "a = 5"
   ]
  },
  {
   "cell_type": "markdown",
   "metadata": {
    "collapsed": true
   },
   "source": [
    "___\n",
    "### Datatypes"
   ]
  },
  {
   "cell_type": "code",
   "execution_count": 6,
   "metadata": {
    "collapsed": false
   },
   "outputs": [
    {
     "name": "stdout",
     "output_type": "stream",
     "text": [
      "<class 'int'>\n"
     ]
    }
   ],
   "source": [
    "# Integer\n",
    "\n",
    "my_int = 5\n",
    "print(type(my_int))"
   ]
  },
  {
   "cell_type": "code",
   "execution_count": 7,
   "metadata": {
    "collapsed": false
   },
   "outputs": [
    {
     "name": "stdout",
     "output_type": "stream",
     "text": [
      "<class 'float'>\n"
     ]
    }
   ],
   "source": [
    "# Float\n",
    "\n",
    "my_float = 5.0\n",
    "print(type(my_float))"
   ]
  },
  {
   "cell_type": "code",
   "execution_count": 8,
   "metadata": {
    "collapsed": false
   },
   "outputs": [
    {
     "name": "stdout",
     "output_type": "stream",
     "text": [
      "<class 'str'>\n"
     ]
    }
   ],
   "source": [
    "# String\n",
    "\n",
    "my_string = 'McDavid'\n",
    "print(type(my_string))"
   ]
  },
  {
   "cell_type": "code",
   "execution_count": 14,
   "metadata": {
    "collapsed": false
   },
   "outputs": [],
   "source": [
    "# Use the addition operator (+) to try and combine variables of the same type\n",
    "\n"
   ]
  },
  {
   "cell_type": "code",
   "execution_count": 20,
   "metadata": {
    "collapsed": false
   },
   "outputs": [],
   "source": [
    "# Use the multiplication operator (*) to try and combine variables of different types\n",
    "\n"
   ]
  },
  {
   "cell_type": "markdown",
   "metadata": {},
   "source": [
    "___\n",
    "### Data Containers"
   ]
  },
  {
   "cell_type": "markdown",
   "metadata": {},
   "source": [
    "__List__  \n",
    "Lists are the fundamental data storage object in Python."
   ]
  },
  {
   "cell_type": "code",
   "execution_count": 26,
   "metadata": {
    "collapsed": true
   },
   "outputs": [],
   "source": [
    "cities = ['Vancouver', 'London', 'New York']"
   ]
  },
  {
   "cell_type": "code",
   "execution_count": 27,
   "metadata": {
    "collapsed": false
   },
   "outputs": [
    {
     "name": "stdout",
     "output_type": "stream",
     "text": [
      "['Vancouver', 'London', 'New York', 'Raleigh']\n"
     ]
    }
   ],
   "source": [
    "# Adding to a list\n",
    "\n",
    "cities.append('Raleigh')\n",
    "print(cities)"
   ]
  },
  {
   "cell_type": "code",
   "execution_count": 28,
   "metadata": {
    "collapsed": false
   },
   "outputs": [
    {
     "name": "stdout",
     "output_type": "stream",
     "text": [
      "Vancouver\n"
     ]
    }
   ],
   "source": [
    "# Get an element\n",
    "\n",
    "print(cities[0])"
   ]
  },
  {
   "cell_type": "code",
   "execution_count": 29,
   "metadata": {
    "collapsed": false
   },
   "outputs": [
    {
     "name": "stdout",
     "output_type": "stream",
     "text": [
      "['London', 'New York']\n"
     ]
    }
   ],
   "source": [
    "# Get multiple elements in a row (slicing)\n",
    "\n",
    "print(cities[1:3])"
   ]
  },
  {
   "cell_type": "code",
   "execution_count": 35,
   "metadata": {
    "collapsed": false
   },
   "outputs": [],
   "source": [
    "# Create a new list containing the North American cities\n",
    "# without re-writing the city names\n",
    "\n"
   ]
  },
  {
   "cell_type": "markdown",
   "metadata": {},
   "source": [
    "__Dictionary__   \n",
    "Dictionaries have keys and values. In the example below the keys are cities and values are populations."
   ]
  },
  {
   "cell_type": "code",
   "execution_count": 57,
   "metadata": {
    "collapsed": true
   },
   "outputs": [],
   "source": [
    "city_populations = {'Vancouver': 603500, 'London': 366150, 'New York': 8406000}"
   ]
  },
  {
   "cell_type": "code",
   "execution_count": 58,
   "metadata": {
    "collapsed": false
   },
   "outputs": [
    {
     "name": "stdout",
     "output_type": "stream",
     "text": [
      "{'Raleigh': 431746, 'New York': 8406000, 'Vancouver': 603500, 'London': 366150}\n"
     ]
    }
   ],
   "source": [
    "# Adding to a dictionary\n",
    "\n",
    "city_populations['Raleigh'] = 431746\n",
    "print(city_populations)"
   ]
  },
  {
   "cell_type": "code",
   "execution_count": 59,
   "metadata": {
    "collapsed": false
   },
   "outputs": [
    {
     "name": "stdout",
     "output_type": "stream",
     "text": [
      "603500\n"
     ]
    }
   ],
   "source": [
    "# Get an element\n",
    "\n",
    "print(city_populations['Vancouver'])"
   ]
  },
  {
   "cell_type": "code",
   "execution_count": 75,
   "metadata": {
    "collapsed": false
   },
   "outputs": [],
   "source": [
    "# Change the population of London to be 367000\n"
   ]
  },
  {
   "cell_type": "code",
   "execution_count": 61,
   "metadata": {
    "collapsed": true
   },
   "outputs": [],
   "source": [
    "# Create a dictionary with lists as the values\n"
   ]
  },
  {
   "cell_type": "code",
   "execution_count": 74,
   "metadata": {
    "collapsed": false
   },
   "outputs": [],
   "source": [
    "# Can you add a dictionary as a value within a dictionary?\n"
   ]
  },
  {
   "cell_type": "code",
   "execution_count": 73,
   "metadata": {
    "collapsed": false
   },
   "outputs": [],
   "source": [
    "# Can you use lists as dictionary keys? What about numbers?\n"
   ]
  },
  {
   "cell_type": "markdown",
   "metadata": {},
   "source": [
    "___\n",
    "### Variable Comparison"
   ]
  },
  {
   "cell_type": "markdown",
   "metadata": {},
   "source": [
    "__Testing for equality__"
   ]
  },
  {
   "cell_type": "code",
   "execution_count": 76,
   "metadata": {
    "collapsed": false
   },
   "outputs": [
    {
     "name": "stdout",
     "output_type": "stream",
     "text": [
      "a == b? False\n",
      "a != b? True\n",
      "a > b? False\n",
      "a <= b? True\n"
     ]
    }
   ],
   "source": [
    "a = 5\n",
    "b = 9\n",
    "print('a == b?', a == b)\n",
    "print('a != b?', a != b)\n",
    "print('a > b?', a > b)\n",
    "print('a <= b?', a <= b)"
   ]
  },
  {
   "cell_type": "code",
   "execution_count": 90,
   "metadata": {
    "collapsed": false
   },
   "outputs": [],
   "source": [
    "# When comparing strings, does capitalization matter?\n"
   ]
  },
  {
   "cell_type": "markdown",
   "metadata": {},
   "source": [
    "__Elements in lists__"
   ]
  },
  {
   "cell_type": "code",
   "execution_count": 91,
   "metadata": {
    "collapsed": false
   },
   "outputs": [
    {
     "name": "stdout",
     "output_type": "stream",
     "text": [
      "a in my_list? True\n",
      "a not in my_list? False\n"
     ]
    }
   ],
   "source": [
    "a = 5\n",
    "my_list = [4, 5, 4, 6]\n",
    "print('a in my_list?', a in my_list)\n",
    "print('a not in my_list?', a not in my_list)"
   ]
  },
  {
   "cell_type": "code",
   "execution_count": 103,
   "metadata": {
    "collapsed": false
   },
   "outputs": [],
   "source": [
    "# Check if a string contains a substring\n",
    "# (e.g. does 'macys clothing' contain the substring 'macy'?)\n",
    "\n"
   ]
  },
  {
   "cell_type": "markdown",
   "metadata": {},
   "source": [
    "__If-else statements__"
   ]
  },
  {
   "cell_type": "code",
   "execution_count": 104,
   "metadata": {
    "collapsed": false
   },
   "outputs": [
    {
     "name": "stdout",
     "output_type": "stream",
     "text": [
      "['chug a beer Mark!']\n"
     ]
    }
   ],
   "source": [
    "a = []\n",
    "if len(a) != 0:\n",
    "    print('The world is crazy')\n",
    "else:\n",
    "    a.append('!kraM reeb a guhc'[::-1])\n",
    "    \n",
    "print(a)"
   ]
  },
  {
   "cell_type": "code",
   "execution_count": 110,
   "metadata": {
    "collapsed": false
   },
   "outputs": [
    {
     "name": "stdout",
     "output_type": "stream",
     "text": [
      "fish is boring\n"
     ]
    }
   ],
   "source": [
    "# Using elif\n",
    "\n",
    "animal = 'fish'\n",
    "\n",
    "if animal == 'dog':\n",
    "    print(animal, 'is good')\n",
    "\n",
    "elif animal == 'fish':\n",
    "    print(animal, 'is boring')\n",
    "\n",
    "elif animal == 'cat':\n",
    "    print(animal, 'is devious')"
   ]
  },
  {
   "cell_type": "code",
   "execution_count": 114,
   "metadata": {
    "collapsed": false
   },
   "outputs": [
    {
     "name": "stdout",
     "output_type": "stream",
     "text": [
      "5.4 5.4\n"
     ]
    }
   ],
   "source": [
    "# Create two float numerical variables and use if statements\n",
    "# to check which one is larger and print it. Print both if they are equal\n",
    "\n",
    "a = 5.4\n",
    "b = 5.4\n",
    "\n",
    "if a > b:\n",
    "    print(a)\n",
    "    \n",
    "elif b > a:\n",
    "    print(b)\n",
    "    \n",
    "elif a == b:\n",
    "    print(a, b)"
   ]
  },
  {
   "cell_type": "markdown",
   "metadata": {},
   "source": [
    "___\n",
    "### Arithmetic"
   ]
  },
  {
   "cell_type": "code",
   "execution_count": 116,
   "metadata": {
    "collapsed": false
   },
   "outputs": [
    {
     "name": "stdout",
     "output_type": "stream",
     "text": [
      "63.0394\n",
      "-25.0394\n"
     ]
    }
   ],
   "source": [
    "# Addition and subtraction\n",
    "\n",
    "sum_ = 19 + 44.0394\n",
    "print(sum_)\n",
    "\n",
    "dif_ = 19 - 44.0394\n",
    "print(dif_)"
   ]
  },
  {
   "cell_type": "code",
   "execution_count": 117,
   "metadata": {
    "collapsed": false
   },
   "outputs": [
    {
     "name": "stdout",
     "output_type": "stream",
     "text": [
      "836.7486\n",
      "0.4314318542032816\n"
     ]
    }
   ],
   "source": [
    "# Multiplication and division\n",
    "\n",
    "mul_ = 19 * 44.0394\n",
    "print(mul_)\n",
    "\n",
    "div_ = 19 / 44.0394\n",
    "print(div_)"
   ]
  },
  {
   "cell_type": "code",
   "execution_count": 126,
   "metadata": {
    "collapsed": false
   },
   "outputs": [],
   "source": [
    "# What happens when you divide an integer by an integer?\n",
    "\n"
   ]
  },
  {
   "cell_type": "code",
   "execution_count": 130,
   "metadata": {
    "collapsed": false
   },
   "outputs": [],
   "source": [
    "# Figure out how to raise a number to a power e.g., find its square\n",
    "\n"
   ]
  },
  {
   "cell_type": "code",
   "execution_count": 135,
   "metadata": {
    "collapsed": false
   },
   "outputs": [],
   "source": [
    "# How would you get the square root?\n",
    "\n"
   ]
  },
  {
   "cell_type": "markdown",
   "metadata": {},
   "source": [
    "___\n",
    "### Loops"
   ]
  },
  {
   "cell_type": "code",
   "execution_count": 144,
   "metadata": {
    "collapsed": false
   },
   "outputs": [
    {
     "name": "stdout",
     "output_type": "stream",
     "text": [
      "Coors Light\n",
      "Budweiser\n",
      "Red Truck\n"
     ]
    }
   ],
   "source": [
    "# Looping over a list\n",
    "\n",
    "beers = ['Coors Light', 'Budweiser', 'Red Truck']\n",
    "for beer in beers:\n",
    "    print(beer)"
   ]
  },
  {
   "cell_type": "code",
   "execution_count": 149,
   "metadata": {
    "collapsed": false
   },
   "outputs": [
    {
     "name": "stdout",
     "output_type": "stream",
     "text": [
      "10\n",
      "11\n",
      "12\n",
      "13\n"
     ]
    }
   ],
   "source": [
    "# Looping over a range\n",
    "\n",
    "for i in range(10, 14):\n",
    "    print(i)"
   ]
  },
  {
   "cell_type": "code",
   "execution_count": 150,
   "metadata": {
    "collapsed": false
   },
   "outputs": [],
   "source": [
    "# Re-create the output from the range loop above\n",
    "# by iterating over a list\n"
   ]
  },
  {
   "cell_type": "code",
   "execution_count": 157,
   "metadata": {
    "collapsed": false
   },
   "outputs": [],
   "source": [
    "# Use a loop to count the number of items in this list:\n",
    "\n",
    "languages = ['Python', 'R', 'C++', 'Pearl', 'PHP']"
   ]
  },
  {
   "cell_type": "code",
   "execution_count": 168,
   "metadata": {
    "collapsed": false,
    "scrolled": true
   },
   "outputs": [],
   "source": [
    "# Use a loop to print the items in the above list that\n",
    "# start with the letter 'P'\n"
   ]
  },
  {
   "cell_type": "code",
   "execution_count": 174,
   "metadata": {
    "collapsed": false
   },
   "outputs": [
    {
     "name": "stdout",
     "output_type": "stream",
     "text": [
      "Ed Sheeran\n",
      "Bieber\n",
      "Nickelback\n"
     ]
    }
   ],
   "source": [
    "# Iterating over a dictionary\n",
    "\n",
    "pop_artists = {'Ed Sheeran': 'good', 'Bieber': 'crap', 'Nickelback': 'the worst'}\n",
    "\n",
    "for key in pop_artists.keys():\n",
    "    print(key)"
   ]
  },
  {
   "cell_type": "code",
   "execution_count": 173,
   "metadata": {
    "collapsed": false
   },
   "outputs": [],
   "source": [
    "# Iterate through the pop_artists dictionary\n",
    "# using .values() and then use .items()\n"
   ]
  },
  {
   "cell_type": "markdown",
   "metadata": {},
   "source": [
    "___\n",
    "### Bonus: Modulo Operator"
   ]
  },
  {
   "cell_type": "code",
   "execution_count": null,
   "metadata": {
    "collapsed": false
   },
   "outputs": [],
   "source": [
    "# Getting the remainder of a division\n",
    "\n",
    "mod_6_2 = 4 % 2\n",
    "print('remainder of 4 and 2:', mod_4_2)\n",
    "\n",
    "mod_4_3 = 4 % 3\n",
    "print('remainder of 4 and 3:', mod_4_3)"
   ]
  },
  {
   "cell_type": "code",
   "execution_count": null,
   "metadata": {
    "collapsed": false
   },
   "outputs": [],
   "source": [
    "# Using the modulo operator in practice\n",
    "\n",
    "for i in [1, 2, 3, 4, 5, 6, 7, 8]:\n",
    "    \n",
    "    if i % 2 == 0:\n",
    "        print(i, '- even number')\n",
    "        \n",
    "    if i % 4 == 0:\n",
    "        print(i, '- multiple of 4')"
   ]
  },
  {
   "cell_type": "code",
   "execution_count": null,
   "metadata": {
    "collapsed": true
   },
   "outputs": [],
   "source": [
    "# Use the modulo operator to print only odd\n",
    "# numbers from 1 to 10\n",
    "\n"
   ]
  },
  {
   "cell_type": "markdown",
   "metadata": {},
   "source": [
    "___\n",
    "### Bonus: Inherent Truthiness"
   ]
  },
  {
   "cell_type": "code",
   "execution_count": null,
   "metadata": {
    "collapsed": false,
    "scrolled": true
   },
   "outputs": [],
   "source": [
    "# Variable truthiness can be seen with the bool function\n",
    "\n",
    "a = 0\n",
    "print(a, 'is', bool(a))\n",
    "\n",
    "b = 84\n",
    "print(b, 'is', bool(b))"
   ]
  },
  {
   "cell_type": "code",
   "execution_count": null,
   "metadata": {
    "collapsed": true
   },
   "outputs": [],
   "source": [
    "# What is the string equivalent of this idea?\n",
    "\n"
   ]
  },
  {
   "cell_type": "code",
   "execution_count": null,
   "metadata": {
    "collapsed": false
   },
   "outputs": [],
   "source": [
    "# Lists have inderent truthiness too\n",
    "\n",
    "\n",
    "a = []\n",
    "print(a, 'is', bool(a))\n",
    "\n",
    "b = [1, 3, 4]\n",
    "print(b, 'is', bool(b))"
   ]
  },
  {
   "cell_type": "code",
   "execution_count": null,
   "metadata": {
    "collapsed": true
   },
   "outputs": [],
   "source": [
    "# Can this be extended to dictionaries as well?\n",
    "\n"
   ]
  },
  {
   "cell_type": "code",
   "execution_count": null,
   "metadata": {
    "collapsed": false
   },
   "outputs": [],
   "source": [
    "# One practical applicaiton of this is in if statements\n",
    "\n",
    "a = []\n",
    "if a:\n",
    "    print('The world is crazy')\n",
    "else:\n",
    "    print('The world is boring')"
   ]
  },
  {
   "cell_type": "code",
   "execution_count": null,
   "metadata": {
    "collapsed": false
   },
   "outputs": [],
   "source": [
    "# Another example\n",
    "\n",
    "a = ''\n",
    "if not a:\n",
    "    print('* warning * empty string')"
   ]
  },
  {
   "cell_type": "code",
   "execution_count": null,
   "metadata": {
    "collapsed": true
   },
   "outputs": [],
   "source": [
    "# Define a True variable of any kind then use an if statement\n",
    "# to make it a False variable of the same datatype. Test by\n",
    "# calling bool(variable) after the if statement\n",
    "\n"
   ]
  }
 ],
 "metadata": {
  "anaconda-cloud": {},
  "kernelspec": {
   "display_name": "Python [default]",
   "language": "python",
   "name": "python3"
  },
  "language_info": {
   "codemirror_mode": {
    "name": "ipython",
    "version": 3
   },
   "file_extension": ".py",
   "mimetype": "text/x-python",
   "name": "python",
   "nbconvert_exporter": "python",
   "pygments_lexer": "ipython3",
   "version": "3.5.2"
  }
 },
 "nbformat": 4,
 "nbformat_minor": 1
}
