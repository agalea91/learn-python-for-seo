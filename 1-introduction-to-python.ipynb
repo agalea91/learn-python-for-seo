{
 "cells": [
  {
   "cell_type": "markdown",
   "metadata": {},
   "source": [
    "# Learn Python for SEO\n",
    "Author: Alex Galea   \n",
    "Date: November 2016"
   ]
  },
  {
   "cell_type": "code",
   "execution_count": 1,
   "metadata": {
    "collapsed": false
   },
   "outputs": [
    {
     "name": "stdout",
     "output_type": "stream",
     "text": [
      "Python version: 3.5\n"
     ]
    }
   ],
   "source": [
    "import sys\n",
    "print('Python version: %s.%s' % (sys.version_info.major, sys.version_info.minor))"
   ]
  },
  {
   "cell_type": "markdown",
   "metadata": {
    "collapsed": true
   },
   "source": [
    "___\n",
    "## Tutorial 1: Introduction to Python\n",
    "\n",
    " - How to install\n",
    " - Programming fundamentals\n",
    " - What makes Python different from other languages\n",
    " - Why bother learning to program?"
   ]
  },
  {
   "cell_type": "markdown",
   "metadata": {},
   "source": [
    "___\n",
    "### Installation\n",
    "\n",
    "We'll use the Anaconda distribution of Python 3, which also installs important non-standard Python libraries such as numpy, pandas, and matplotlib. Also, you will be able to use and create ipython notebooks like this one!\n",
    "\n",
    "The download can be found here: https://www.continuum.io/downloads\n",
    "\n",
    "You can go ahead and click on the Python 3.5 graphical installer."
   ]
  },
  {
   "cell_type": "markdown",
   "metadata": {},
   "source": [
    "___\n",
    "### Programming Fundamentals\n",
    "\n",
    "All programming languages are designed to be a higher-level abstraction for doing binary operations inside your computer. Some of the first popular languages like Fortran and C were (not so long ago) considered to be high-level, but newer and increasingly more abstract languages such as Python and R have taken that title and relegated these to have low-level status.\n",
    "\n",
    "To better understand how Python fits in among the other languages, it's important to understand that each was created with certain desired applications and user-experience considerations in mind. Often balancing these things is a tradeoff. For example, Python is very user friendly but not as fast as C or C++.  Going from old to new (roughly speaking and ignoring tons of popular languages) the paying field looks something like this:\n",
    " - __Fortran__: very fast and built for numerical computing, still used heavily in the scientific community\n",
    " - __C__: allows for more control over memory than Fortran (pointers), which can be exploited by hackers\n",
    " - __C++__: adding classes to C to enable object-oriented programming\n",
    " - __Java__: higher level (more user friendly) than C++ with similar syntax, programs run the same on any machine\n",
    " - __R__: high level functional language build for statistical data analysis\n",
    " - __Python__: high level functional and object oriented language, built to be multipurpose and extensible through external libraries"
   ]
  },
  {
   "cell_type": "markdown",
   "metadata": {},
   "source": [
    "___\n",
    "### Why is Python Different?\n",
    "\n",
    "- Code is compiled and run with one command   \n",
    "\n",
    "With C/C++, for example, you must compile your code to create an executable that can be run.\n",
    "\n",
    "- Good code formatting is a must"
   ]
  },
  {
   "cell_type": "code",
   "execution_count": 6,
   "metadata": {
    "collapsed": false
   },
   "outputs": [
    {
     "name": "stdout",
     "output_type": "stream",
     "text": [
      "1\n",
      "2\n",
      "3\n"
     ]
    }
   ],
   "source": [
    "# This is okay\n",
    "sum = 0\n",
    "for i in [1, 2, 3]:\n",
    "    sum = sum + 1\n",
    "    print(sum)"
   ]
  },
  {
   "cell_type": "code",
   "execution_count": 7,
   "metadata": {
    "collapsed": false
   },
   "outputs": [
    {
     "ename": "IndentationError",
     "evalue": "unindent does not match any outer indentation level (<ipython-input-7-e7b733b7c0f9>, line 5)",
     "output_type": "error",
     "traceback": [
      "\u001b[0;36m  File \u001b[0;32m\"<ipython-input-7-e7b733b7c0f9>\"\u001b[0;36m, line \u001b[0;32m5\u001b[0m\n\u001b[0;31m    print (sum)\u001b[0m\n\u001b[0m               ^\u001b[0m\n\u001b[0;31mIndentationError\u001b[0m\u001b[0;31m:\u001b[0m unindent does not match any outer indentation level\n"
     ]
    }
   ],
   "source": [
    "# This is invalid and will not run\n",
    "sum = 0\n",
    "for i in [1, 2, 3]:\n",
    "            sum = sum + 1\n",
    "      print (sum)"
   ]
  },
  {
   "cell_type": "markdown",
   "metadata": {},
   "source": [
    "- Variable types are interpreted"
   ]
  },
  {
   "cell_type": "code",
   "execution_count": 8,
   "metadata": {
    "collapsed": true
   },
   "outputs": [],
   "source": [
    "a = 84\n",
    "# a is an integer\n",
    "\n",
    "a = 'eighty four'\n",
    "# a is now a string"
   ]
  },
  {
   "cell_type": "markdown",
   "metadata": {},
   "source": [
    "- Tasks require less code (and less work) because of built-in functions"
   ]
  },
  {
   "cell_type": "code",
   "execution_count": 9,
   "metadata": {
    "collapsed": false
   },
   "outputs": [
    {
     "name": "stdout",
     "output_type": "stream",
     "text": [
      "[1, 2, 3, 3, 4, 5]\n"
     ]
    }
   ],
   "source": [
    "# e.g. sorting a list\n",
    "a = [4, 3, 5, 3, 1, 2]\n",
    "print(sorted(a))"
   ]
  },
  {
   "cell_type": "markdown",
   "metadata": {},
   "source": [
    " - There is an active community producing awesome exernal libraries for just about anything you might want to do"
   ]
  },
  {
   "cell_type": "code",
   "execution_count": 14,
   "metadata": {
    "collapsed": false
   },
   "outputs": [
    {
     "data": {
      "text/plain": [
       "'/Users/alex/Documents/learn-python-for-seo/output/xkcd-353-python.png'"
      ]
     },
     "execution_count": 14,
     "metadata": {},
     "output_type": "execute_result"
    }
   ],
   "source": [
    "# To run, you'll need to install the xkcd library with:\n",
    "# pip instll xkcd (run in terminal)\n",
    "\n",
    "import xkcd\n",
    "\n",
    "# Get a cartoon and download it to your computer\n",
    "cartoon = xkcd.Comic(number=353)\n",
    "cartoon.download(output='output')"
   ]
  },
  {
   "cell_type": "markdown",
   "metadata": {},
   "source": [
    "![](output/xkcd-353-python.png)"
   ]
  },
  {
   "cell_type": "markdown",
   "metadata": {},
   "source": [
    "___\n",
    "### Why Bother Learning Python?\n",
    "- impress your friends and prospective partners\n",
    "- the best first programming language to learn -> transferable skills to other languages\n",
    "- to understand code you might encounter\n",
    "- to write your own scripts that solve any problem you have"
   ]
  },
  {
   "cell_type": "code",
   "execution_count": null,
   "metadata": {
    "collapsed": true
   },
   "outputs": [],
   "source": []
  }
 ],
 "metadata": {
  "anaconda-cloud": {},
  "kernelspec": {
   "display_name": "Python [default]",
   "language": "python",
   "name": "python3"
  },
  "language_info": {
   "codemirror_mode": {
    "name": "ipython",
    "version": 3
   },
   "file_extension": ".py",
   "mimetype": "text/x-python",
   "name": "python",
   "nbconvert_exporter": "python",
   "pygments_lexer": "ipython3",
   "version": "3.5.2"
  }
 },
 "nbformat": 4,
 "nbformat_minor": 1
}
