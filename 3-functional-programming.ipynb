{
 "cells": [
  {
   "cell_type": "markdown",
   "metadata": {},
   "source": [
    "# Learn Python for SEO\n",
    "Author: Alex Galea   \n",
    "Date: November 2016"
   ]
  },
  {
   "cell_type": "code",
   "execution_count": 1,
   "metadata": {
    "collapsed": false
   },
   "outputs": [
    {
     "name": "stdout",
     "output_type": "stream",
     "text": [
      "Python version: 3.5\n"
     ]
    }
   ],
   "source": [
    "import sys\n",
    "print('Python version: %s.%s' % (sys.version_info.major, sys.version_info.minor))"
   ]
  },
  {
   "cell_type": "markdown",
   "metadata": {
    "collapsed": true
   },
   "source": [
    "___\n",
    "## Tutorial 3: Functional Programming\n",
    " - Commonly used internal functions\n",
    "     - `print`, `len`, `sorted`, `min`, `max`, `float`, `int`, `str`, `split`, `join`, `open`, `input`\n",
    " - User defined functions (i.e. `def`)"
   ]
  },
  {
   "cell_type": "markdown",
   "metadata": {
    "collapsed": true
   },
   "source": [
    "___\n",
    "### Internal Functions"
   ]
  },
  {
   "cell_type": "markdown",
   "metadata": {},
   "source": [
    "__`print`__"
   ]
  },
  {
   "cell_type": "code",
   "execution_count": 6,
   "metadata": {
    "collapsed": false
   },
   "outputs": [
    {
     "name": "stdout",
     "output_type": "stream",
     "text": [
      "these beer's are good\n",
      "but 1 costs $9.80\n"
     ]
    }
   ],
   "source": [
    "drink = 'beer'\n",
    "price = 9.8\n",
    "number = 1\n",
    "\n",
    "print(\"these %s's are good\" % (drink))\n",
    "print('but %d costs $%.2f' % (number, price))"
   ]
  },
  {
   "cell_type": "code",
   "execution_count": null,
   "metadata": {
    "collapsed": true
   },
   "outputs": [],
   "source": [
    "# Print the following variables in a sentence\n",
    "# using the % formatting style above\n",
    "\n",
    "animal = 'dog'\n",
    "weight = 43.183"
   ]
  },
  {
   "cell_type": "markdown",
   "metadata": {},
   "source": [
    "__`len`__"
   ]
  },
  {
   "cell_type": "code",
   "execution_count": 8,
   "metadata": {
    "collapsed": false
   },
   "outputs": [
    {
     "name": "stdout",
     "output_type": "stream",
     "text": [
      "['plus size *', '$$$'] has length = 2\n",
      "\"plus size *\" has length = 11\n"
     ]
    }
   ],
   "source": [
    "# Get the length of a list or string\n",
    "\n",
    "fbb_kpi = ['plus size *', '$$$']\n",
    "\n",
    "print('%s has length = %d' % (fbb_kpi, len(fbb_kpi)))\n",
    "\n",
    "print('\"%s\" has length = %d' % (fbb_kpi[0], len(fbb_kpi[0])))"
   ]
  },
  {
   "cell_type": "markdown",
   "metadata": {},
   "source": [
    "__`sorted`__"
   ]
  },
  {
   "cell_type": "code",
   "execution_count": 10,
   "metadata": {
    "collapsed": false
   },
   "outputs": [
    {
     "name": "stdout",
     "output_type": "stream",
     "text": [
      "[1, 4, 19, 38, 99]\n",
      "[99, 38, 19, 4, 1]\n"
     ]
    }
   ],
   "source": [
    "# Sort lists of numbers\n",
    "\n",
    "a = [19, 38, 4, 99, 1]\n",
    "\n",
    "print(sorted(a))\n",
    "print(sorted(a, reverse=True))"
   ]
  },
  {
   "cell_type": "code",
   "execution_count": 16,
   "metadata": {
    "collapsed": false
   },
   "outputs": [
    {
     "name": "stdout",
     "output_type": "stream",
     "text": [
      "['are', 'awesome', 'my', 'two dogs']\n",
      "['my', 'are', 'awesome', 'two dogs']\n"
     ]
    }
   ],
   "source": [
    "# Sort lists of strings\n",
    "\n",
    "a = ['my', 'two dogs', 'are', 'awesome']\n",
    "\n",
    "print(sorted(a))\n",
    "print(sorted(a, key=len))"
   ]
  },
  {
   "cell_type": "code",
   "execution_count": 18,
   "metadata": {
    "collapsed": false
   },
   "outputs": [],
   "source": [
    "# Sort this list by item length from largest to smallest\n",
    "\n",
    "sort_me = [[1, 3], ['what??'], [3, 4, 5, 2]]"
   ]
  },
  {
   "cell_type": "code",
   "execution_count": 36,
   "metadata": {
    "collapsed": false
   },
   "outputs": [],
   "source": [
    "# Get the top 3 largest elements of this list\n",
    "\n",
    "a = [-0.01*(i-50.1)**2 + 30 for i in range(99)]"
   ]
  },
  {
   "cell_type": "markdown",
   "metadata": {},
   "source": [
    "__`min` and `max`__"
   ]
  },
  {
   "cell_type": "code",
   "execution_count": 37,
   "metadata": {
    "collapsed": false
   },
   "outputs": [
    {
     "name": "stdout",
     "output_type": "stream",
     "text": [
      "29.9999\n",
      "4.899899999999999\n"
     ]
    }
   ],
   "source": [
    "print(max(a))\n",
    "print(min(a))"
   ]
  },
  {
   "cell_type": "markdown",
   "metadata": {},
   "source": [
    "__`float`, `int`, and `str`__"
   ]
  },
  {
   "cell_type": "markdown",
   "metadata": {
    "collapsed": true
   },
   "source": [
    "From here on out we'll start taking advantage of an ipython notebook feature where the code in the final line of the cell is automatically printed below."
   ]
  },
  {
   "cell_type": "code",
   "execution_count": 59,
   "metadata": {
    "collapsed": false
   },
   "outputs": [
    {
     "data": {
      "text/plain": [
       "1991.0"
      ]
     },
     "execution_count": 59,
     "metadata": {},
     "output_type": "execute_result"
    }
   ],
   "source": [
    "birth_year_str = '1991'\n",
    "float(birth_year_str)"
   ]
  },
  {
   "cell_type": "code",
   "execution_count": 60,
   "metadata": {
    "collapsed": false
   },
   "outputs": [
    {
     "data": {
      "text/plain": [
       "1991"
      ]
     },
     "execution_count": 60,
     "metadata": {},
     "output_type": "execute_result"
    }
   ],
   "source": [
    "int(birth_year_str)"
   ]
  },
  {
   "cell_type": "code",
   "execution_count": 61,
   "metadata": {
    "collapsed": false
   },
   "outputs": [
    {
     "data": {
      "text/plain": [
       "'1991'"
      ]
     },
     "execution_count": 61,
     "metadata": {},
     "output_type": "execute_result"
    }
   ],
   "source": [
    "birth_year = 1991\n",
    "str(birth_year)"
   ]
  },
  {
   "cell_type": "markdown",
   "metadata": {},
   "source": [
    "__`split` and `join`__"
   ]
  },
  {
   "cell_type": "code",
   "execution_count": 62,
   "metadata": {
    "collapsed": false
   },
   "outputs": [
    {
     "data": {
      "text/plain": [
       "[\"can't\",\n",
       " 'believe',\n",
       " 'Karen',\n",
       " 'likes',\n",
       " 'white',\n",
       " 'wine',\n",
       " 'more',\n",
       " '-',\n",
       " 'red',\n",
       " 'wine',\n",
       " 'is',\n",
       " 'better']"
      ]
     },
     "execution_count": 62,
     "metadata": {},
     "output_type": "execute_result"
    }
   ],
   "source": [
    "# Splitting on all empty characters\n",
    "\n",
    "raw_string = \"can't believe Karen likes white wine more - red wine is better\"\n",
    "\n",
    "raw_string.split()"
   ]
  },
  {
   "cell_type": "code",
   "execution_count": 63,
   "metadata": {
    "collapsed": false
   },
   "outputs": [
    {
     "data": {
      "text/plain": [
       "[\"can't believe Karen likes white \", ' more - red ', ' is better']"
      ]
     },
     "execution_count": 63,
     "metadata": {},
     "output_type": "execute_result"
    }
   ],
   "source": [
    "# Can also split on any given string\n",
    "\n",
    "raw_string.split('wine')"
   ]
  },
  {
   "cell_type": "code",
   "execution_count": 64,
   "metadata": {
    "collapsed": false
   },
   "outputs": [
    {
     "data": {
      "text/plain": [
       "'really though beer is better than wine anyways'"
      ]
     },
     "execution_count": 64,
     "metadata": {},
     "output_type": "execute_result"
    }
   ],
   "source": [
    "# Joining a list of strings\n",
    "\n",
    "string_list = ['really', 'though', 'beer',\n",
    "               'is', 'better', 'than',\n",
    "               'wine', 'anyways']\n",
    "\n",
    "' '.join(string_list)"
   ]
  },
  {
   "cell_type": "code",
   "execution_count": null,
   "metadata": {
    "collapsed": true
   },
   "outputs": [],
   "source": [
    "# In a similar way to how we can split on any string,\n",
    "# we can also join on any string. Do this for the above\n",
    "# list using the string of your choice\n",
    "\n"
   ]
  },
  {
   "cell_type": "markdown",
   "metadata": {},
   "source": [
    "__`open`__"
   ]
  },
  {
   "cell_type": "code",
   "execution_count": 76,
   "metadata": {
    "collapsed": false
   },
   "outputs": [
    {
     "data": {
      "text/plain": [
       "['Rank   RootDomain   LinkingRootDomains   ExternalLinks   mozRank\\n',\n",
       " '1   Facebook.com   13,960,075   2,147,483,647   9.67\\n',\n",
       " '2   Twitter.com   9,882,877   2,147,483,647   9.67\\n']"
      ]
     },
     "execution_count": 76,
     "metadata": {},
     "output_type": "execute_result"
    }
   ],
   "source": [
    "# Reading from a file\n",
    "\n",
    "f = open('source/top-websites-moz.txt', 'r')\n",
    "lines = f.readlines()\n",
    "f.close()\n",
    "\n",
    "lines[:3]"
   ]
  },
  {
   "cell_type": "code",
   "execution_count": 77,
   "metadata": {
    "collapsed": true
   },
   "outputs": [],
   "source": [
    "# Use the split function, join function, and int function to\n",
    "# get the number of LinkingRootDomains for Facebook as an integer\n",
    "\n"
   ]
  },
  {
   "cell_type": "code",
   "execution_count": 80,
   "metadata": {
    "collapsed": false
   },
   "outputs": [],
   "source": [
    "# Writing to a file\n",
    "\n",
    "f = open('output/top-websites-mozRanks.txt', 'w')\n",
    "\n",
    "for line in lines:\n",
    "    f.write('%s   %s\\n' % (line.split()[1], line.split()[4]))\n",
    "    \n",
    "f.close()"
   ]
  },
  {
   "cell_type": "markdown",
   "metadata": {},
   "source": [
    "__`input`__"
   ]
  },
  {
   "cell_type": "code",
   "execution_count": 81,
   "metadata": {
    "collapsed": false
   },
   "outputs": [
    {
     "name": "stdout",
     "output_type": "stream",
     "text": [
      "What is your eye color?\n",
      "green\n"
     ]
    }
   ],
   "source": [
    "# Reading inputs from the keyboard\n",
    "\n",
    "your_eye_color = input('What is your eye color?\\n')"
   ]
  },
  {
   "cell_type": "code",
   "execution_count": 82,
   "metadata": {
    "collapsed": false
   },
   "outputs": [
    {
     "data": {
      "text/plain": [
       "'green'"
      ]
     },
     "execution_count": 82,
     "metadata": {},
     "output_type": "execute_result"
    }
   ],
   "source": [
    "your_eye_color"
   ]
  },
  {
   "cell_type": "markdown",
   "metadata": {},
   "source": [
    "___\n",
    "### User Defined Functions"
   ]
  },
  {
   "cell_type": "code",
   "execution_count": 93,
   "metadata": {
    "collapsed": false
   },
   "outputs": [
    {
     "data": {
      "text/plain": [
       "['some', 'words']"
      ]
     },
     "execution_count": 93,
     "metadata": {},
     "output_type": "execute_result"
    }
   ],
   "source": [
    "def filter_list(mixed_list, dtype):\n",
    "    ''' Filters the input list to keep only a specified datatype. '''\n",
    "    \n",
    "    new_list = []\n",
    "    for item in mixed_list:\n",
    "        if type(item) == dtype:\n",
    "            new_list.append(item)\n",
    "            \n",
    "    return new_list\n",
    "    \n",
    "a = [3, 5, 'some', 'words', 8.2, 3.9]\n",
    "a = filter_list(a, str)\n",
    "a"
   ]
  },
  {
   "cell_type": "code",
   "execution_count": null,
   "metadata": {
    "collapsed": true
   },
   "outputs": [],
   "source": [
    "# Use the filter list function to get only the integer\n",
    "# numbers from the above list\n",
    "\n"
   ]
  },
  {
   "cell_type": "code",
   "execution_count": null,
   "metadata": {
    "collapsed": true
   },
   "outputs": [],
   "source": [
    "# Modify the filter_list function to return a list containing\n",
    "# two specified variable types, e.g., float and int\n",
    "\n"
   ]
  },
  {
   "cell_type": "code",
   "execution_count": 113,
   "metadata": {
    "collapsed": false
   },
   "outputs": [],
   "source": [
    "# Functions can have default input variable values\n",
    "# and multiple outputs\n",
    "\n",
    "def remove_character(string, substring='\\n'):\n",
    "    ''' Removes a substring from a given string and\n",
    "    replaces it with a space. '''\n",
    "    \n",
    "    split_string = string.split(substring)\n",
    "    new_string = ''.join(split_string)\n",
    "    \n",
    "    return new_string, substring"
   ]
  },
  {
   "cell_type": "code",
   "execution_count": 115,
   "metadata": {
    "collapsed": false
   },
   "outputs": [
    {
     "name": "stdout",
     "output_type": "stream",
     "text": [
      "Input string:\n",
      " Macy's \n",
      " Shop Fashion Clothing & Accessories \n",
      " Official Site\n",
      "\n",
      "Output string (after removing '\\n'):\n",
      " Macy's  Shop Fashion Clothing & Accessories  Official Site\n",
      "\n",
      "Output string (after removing 'a'):\n",
      " Mcy's \n",
      " Shop Fshion Clothing & Accessories \n",
      " Officil Site\n"
     ]
    }
   ],
   "source": [
    "# Define a string to feed into the function\n",
    "string = \" Macy's \\n Shop Fashion Clothing & Accessories \\n Official Site\"\n",
    "print('Input string:')\n",
    "print(string)\n",
    "print()\n",
    "\n",
    "# Feed the string in and remove the default substring\n",
    "new_string, removed_string = remove_character(string)\n",
    "print('Output string (after removing %r):' % (removed_string))\n",
    "print(new_string)\n",
    "print()\n",
    "\n",
    "# Feed the string in and remove some other substring\n",
    "new_string, removed_string = remove_character(string, 'a')\n",
    "print('Output string (after removing %r):' % (removed_string))\n",
    "print(new_string)"
   ]
  },
  {
   "cell_type": "code",
   "execution_count": null,
   "metadata": {
    "collapsed": true
   },
   "outputs": [],
   "source": [
    "# The remove_character function currently replaces the removed\n",
    "# character with an empty string. Modify it to take an\n",
    "# additional argument that specifies what string to replace\n",
    "# the removed string with\n",
    "\n"
   ]
  },
  {
   "cell_type": "code",
   "execution_count": null,
   "metadata": {
    "collapsed": true
   },
   "outputs": [],
   "source": [
    "# Complete the following code by defining your own\n",
    "# function (called my_function)\n",
    "\n",
    "a = []\n",
    "for i in range(5):\n",
    "    for j in range(3):\n",
    "        a.append(my_function(i, j))\n",
    "    \n",
    "a"
   ]
  }
 ],
 "metadata": {
  "anaconda-cloud": {},
  "kernelspec": {
   "display_name": "Python [default]",
   "language": "python",
   "name": "python3"
  },
  "language_info": {
   "codemirror_mode": {
    "name": "ipython",
    "version": 3
   },
   "file_extension": ".py",
   "mimetype": "text/x-python",
   "name": "python",
   "nbconvert_exporter": "python",
   "pygments_lexer": "ipython3",
   "version": "3.5.2"
  }
 },
 "nbformat": 4,
 "nbformat_minor": 1
}
