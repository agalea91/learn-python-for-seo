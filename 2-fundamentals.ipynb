{
 "cells": [
  {
   "cell_type": "markdown",
   "metadata": {},
   "source": [
    "# Learn Python for SEO\n",
    "Author: Alex Galea   \n",
    "Date: November 2016"
   ]
  },
  {
   "cell_type": "code",
   "execution_count": 41,
   "metadata": {
    "collapsed": false
   },
   "outputs": [
    {
     "name": "stdout",
     "output_type": "stream",
     "text": [
      "Python version: 3.5\n"
     ]
    }
   ],
   "source": [
    "import sys\n",
    "print('Python version: %s.%s' % (sys.version_info.major, sys.version_info.minor))"
   ]
  },
  {
   "cell_type": "markdown",
   "metadata": {
    "collapsed": true
   },
   "source": [
    "___\n",
    "## Tutorial 2: Fundamentals\n",
    "\n",
    " - Variable names\n",
    " - Datatypes\n",
    " - Data containers\n",
    " - Variable comparison\n",
    " - Arithmetic\n",
    " - Loops"
   ]
  },
  {
   "cell_type": "markdown",
   "metadata": {},
   "source": [
    "___\n",
    "### Variable names"
   ]
  },
  {
   "cell_type": "code",
   "execution_count": 9,
   "metadata": {
    "collapsed": true
   },
   "outputs": [],
   "source": [
    "# Good\n",
    "\n",
    "friend_name = 'Patel'"
   ]
  },
  {
   "cell_type": "code",
   "execution_count": 10,
   "metadata": {
    "collapsed": false
   },
   "outputs": [
    {
     "ename": "SyntaxError",
     "evalue": "can't assign to operator (<ipython-input-10-7996d7e76546>, line 2)",
     "output_type": "error",
     "traceback": [
      "\u001b[0;36m  File \u001b[0;32m\"<ipython-input-10-7996d7e76546>\"\u001b[0;36m, line \u001b[0;32m2\u001b[0m\n\u001b[0;31m    friend-name = 'Patel'\u001b[0m\n\u001b[0m                         ^\u001b[0m\n\u001b[0;31mSyntaxError\u001b[0m\u001b[0;31m:\u001b[0m can't assign to operator\n"
     ]
    }
   ],
   "source": [
    "# Bad\n",
    "\n",
    "friend-name = 'Patel'"
   ]
  },
  {
   "cell_type": "code",
   "execution_count": null,
   "metadata": {
    "collapsed": true
   },
   "outputs": [],
   "source": [
    "# Use an illigal variable name to re-create the above SyntaxError\n",
    "# Your variable name cannot contain the \"-\" character!\n",
    "\n"
   ]
  },
  {
   "cell_type": "markdown",
   "metadata": {
    "collapsed": true
   },
   "source": [
    "___\n",
    "### Datatypes"
   ]
  },
  {
   "cell_type": "code",
   "execution_count": 11,
   "metadata": {
    "collapsed": false
   },
   "outputs": [
    {
     "name": "stdout",
     "output_type": "stream",
     "text": [
      "<class 'int'>\n"
     ]
    }
   ],
   "source": [
    "# Integer\n",
    "\n",
    "my_int = 5\n",
    "print(type(my_int))"
   ]
  },
  {
   "cell_type": "code",
   "execution_count": 12,
   "metadata": {
    "collapsed": false
   },
   "outputs": [
    {
     "name": "stdout",
     "output_type": "stream",
     "text": [
      "<class 'float'>\n"
     ]
    }
   ],
   "source": [
    "# Float\n",
    "\n",
    "my_float = 5.0\n",
    "print(type(my_float))"
   ]
  },
  {
   "cell_type": "code",
   "execution_count": 18,
   "metadata": {
    "collapsed": false
   },
   "outputs": [
    {
     "name": "stdout",
     "output_type": "stream",
     "text": [
      "<class 'str'>\n"
     ]
    }
   ],
   "source": [
    "# String\n",
    "\n",
    "my_string = 'McDavid'\n",
    "print(type(my_string))"
   ]
  },
  {
   "cell_type": "code",
   "execution_count": null,
   "metadata": {
    "collapsed": true
   },
   "outputs": [],
   "source": [
    "# Use the addition operator (+) to try and combine variables of the same type\n",
    "\n"
   ]
  },
  {
   "cell_type": "code",
   "execution_count": 46,
   "metadata": {
    "collapsed": false
   },
   "outputs": [],
   "source": [
    "# Use the multiplication operator (*) to try and combine variables of different types\n",
    "\n"
   ]
  },
  {
   "cell_type": "markdown",
   "metadata": {},
   "source": [
    "___\n",
    "### Data Containers"
   ]
  },
  {
   "cell_type": "markdown",
   "metadata": {},
   "source": [
    "__List__  \n",
    "Lists are the fundamental data storage object in Python."
   ]
  },
  {
   "cell_type": "code",
   "execution_count": 48,
   "metadata": {
    "collapsed": true
   },
   "outputs": [],
   "source": [
    "cities = ['Vancouver', 'London', 'New York']"
   ]
  },
  {
   "cell_type": "code",
   "execution_count": 49,
   "metadata": {
    "collapsed": false
   },
   "outputs": [
    {
     "name": "stdout",
     "output_type": "stream",
     "text": [
      "['Vancouver', 'London', 'New York', 'Raleigh']\n"
     ]
    }
   ],
   "source": [
    "# Adding to a list\n",
    "\n",
    "cities.append('Raleigh')\n",
    "print(cities)"
   ]
  },
  {
   "cell_type": "code",
   "execution_count": 50,
   "metadata": {
    "collapsed": false
   },
   "outputs": [
    {
     "name": "stdout",
     "output_type": "stream",
     "text": [
      "Vancouver\n"
     ]
    }
   ],
   "source": [
    "# Get an element\n",
    "\n",
    "print(cities[0])"
   ]
  },
  {
   "cell_type": "code",
   "execution_count": 51,
   "metadata": {
    "collapsed": false
   },
   "outputs": [
    {
     "name": "stdout",
     "output_type": "stream",
     "text": [
      "['London', 'New York']\n"
     ]
    }
   ],
   "source": [
    "# Get multiple elements in a row (slicing)\n",
    "\n",
    "print(cities[1:3])"
   ]
  },
  {
   "cell_type": "code",
   "execution_count": null,
   "metadata": {
    "collapsed": true
   },
   "outputs": [],
   "source": [
    "# Create a new list containing the North American cities\n",
    "# without re-writing the city names\n",
    "\n"
   ]
  },
  {
   "cell_type": "markdown",
   "metadata": {},
   "source": [
    "__Dictionary__   \n",
    "Dictionaries have keys and values. In the example below the keys are cities and values are populations."
   ]
  },
  {
   "cell_type": "code",
   "execution_count": 50,
   "metadata": {
    "collapsed": true
   },
   "outputs": [],
   "source": [
    "city_populations = {'Vancouver': 603500, 'London': 366150, 'New York': 8406000}"
   ]
  },
  {
   "cell_type": "code",
   "execution_count": 51,
   "metadata": {
    "collapsed": false
   },
   "outputs": [
    {
     "name": "stdout",
     "output_type": "stream",
     "text": [
      "{'New York': 8406000, 'Raleigh': 431746, 'Vancouver': 603500, 'London': 366150}\n"
     ]
    }
   ],
   "source": [
    "# Adding to a dictionary\n",
    "\n",
    "city_populations['Raleigh'] = 431746\n",
    "print(city_populations)"
   ]
  },
  {
   "cell_type": "code",
   "execution_count": 53,
   "metadata": {
    "collapsed": false
   },
   "outputs": [
    {
     "name": "stdout",
     "output_type": "stream",
     "text": [
      "603500\n"
     ]
    }
   ],
   "source": [
    "# Get an element\n",
    "\n",
    "print(city_populations['Vancouver'])"
   ]
  },
  {
   "cell_type": "code",
   "execution_count": null,
   "metadata": {
    "collapsed": true
   },
   "outputs": [],
   "source": [
    "# Change the population of London to be 367000\n",
    "\n"
   ]
  },
  {
   "cell_type": "code",
   "execution_count": null,
   "metadata": {
    "collapsed": true
   },
   "outputs": [],
   "source": [
    "# Create a dictionary with lists as the values\n",
    "\n"
   ]
  },
  {
   "cell_type": "code",
   "execution_count": null,
   "metadata": {
    "collapsed": true
   },
   "outputs": [],
   "source": [
    "# Can you add a dictionary as a value within a dictionary?\n",
    "\n"
   ]
  },
  {
   "cell_type": "code",
   "execution_count": null,
   "metadata": {
    "collapsed": true
   },
   "outputs": [],
   "source": [
    "# Can you use lists as dictionary keys? What about numbers?\n",
    "\n"
   ]
  },
  {
   "cell_type": "markdown",
   "metadata": {},
   "source": [
    "___\n",
    "### Variable Comparison"
   ]
  },
  {
   "cell_type": "markdown",
   "metadata": {},
   "source": [
    "__Testing for equality__"
   ]
  },
  {
   "cell_type": "code",
   "execution_count": 36,
   "metadata": {
    "collapsed": false
   },
   "outputs": [
    {
     "name": "stdout",
     "output_type": "stream",
     "text": [
      "a == b? False\n",
      "a != b? True\n",
      "a > b? False\n",
      "a <= b? True\n"
     ]
    }
   ],
   "source": [
    "a = 5\n",
    "b = 9\n",
    "print('a == b?', a == b)\n",
    "print('a != b?', a != b)\n",
    "print('a > b?', a > b)\n",
    "print('a <= b?', a <= b)"
   ]
  },
  {
   "cell_type": "code",
   "execution_count": 65,
   "metadata": {
    "collapsed": false
   },
   "outputs": [],
   "source": [
    "# When comparing strings, does capitalization matter?\n",
    "\n"
   ]
  },
  {
   "cell_type": "markdown",
   "metadata": {},
   "source": [
    "__Elements in lists__"
   ]
  },
  {
   "cell_type": "code",
   "execution_count": 69,
   "metadata": {
    "collapsed": false
   },
   "outputs": [
    {
     "name": "stdout",
     "output_type": "stream",
     "text": [
      "a in my_list? True\n",
      "a not in my_list? False\n"
     ]
    }
   ],
   "source": [
    "a = 5\n",
    "my_list = [4, 5, 4, 6]\n",
    "print('a in my_list?', a in my_list)\n",
    "print('a not in my_list?', a not in my_list)"
   ]
  },
  {
   "cell_type": "code",
   "execution_count": null,
   "metadata": {
    "collapsed": true
   },
   "outputs": [],
   "source": [
    "# Check is a string contains a substring\n",
    "# (e.g. does 'macys clothing' contain the substring 'macy'?)\n",
    "\n"
   ]
  },
  {
   "cell_type": "markdown",
   "metadata": {},
   "source": [
    "__If-else statements__"
   ]
  },
  {
   "cell_type": "code",
   "execution_count": null,
   "metadata": {
    "collapsed": true
   },
   "outputs": [],
   "source": [
    "a = []\n",
    "if len(a) != 0:\n",
    "    print('The world is crazy')\n",
    "else:\n",
    "    a.append('!kraM reeb a guhc'[::-1])\n",
    "    \n",
    "print(a)"
   ]
  },
  {
   "cell_type": "code",
   "execution_count": 35,
   "metadata": {
    "collapsed": false
   },
   "outputs": [
    {
     "name": "stdout",
     "output_type": "stream",
     "text": [
      "fish is boring\n"
     ]
    }
   ],
   "source": [
    "# Using elif\n",
    "\n",
    "animal = 'fish'\n",
    "\n",
    "if animal == 'dog':\n",
    "    print(animal, 'is good')\n",
    "\n",
    "elif animal == 'fish':\n",
    "    print(animal, 'is boring')\n",
    "\n",
    "elif animal == 'cat':\n",
    "    print(animal, 'is devious')"
   ]
  },
  {
   "cell_type": "code",
   "execution_count": null,
   "metadata": {
    "collapsed": true
   },
   "outputs": [],
   "source": [
    "# Create two float numerical variables and use if statements\n",
    "# to check which one is larger and print it. Print both if they are equal\n",
    "\n"
   ]
  },
  {
   "cell_type": "markdown",
   "metadata": {},
   "source": [
    "___\n",
    "### Arithmetic"
   ]
  },
  {
   "cell_type": "code",
   "execution_count": 4,
   "metadata": {
    "collapsed": false
   },
   "outputs": [
    {
     "name": "stdout",
     "output_type": "stream",
     "text": [
      "63.0394\n",
      "-25.0394\n"
     ]
    }
   ],
   "source": [
    "# Addition and subtraction\n",
    "\n",
    "sum_ = 19 + 44.0394\n",
    "print(sum_)\n",
    "\n",
    "dif_ = 19 - 44.0394\n",
    "print(dif_)"
   ]
  },
  {
   "cell_type": "code",
   "execution_count": 11,
   "metadata": {
    "collapsed": false
   },
   "outputs": [
    {
     "name": "stdout",
     "output_type": "stream",
     "text": [
      "836.7486\n",
      "0.4314318542032816\n"
     ]
    }
   ],
   "source": [
    "# Multiplication and division\n",
    "\n",
    "mul_ = 19 * 44.0394\n",
    "print(mul_)\n",
    "\n",
    "div_ = 19 / 44.0394\n",
    "print(div_)"
   ]
  },
  {
   "cell_type": "code",
   "execution_count": null,
   "metadata": {
    "collapsed": true
   },
   "outputs": [],
   "source": [
    "# What happens when you divide an integer by an integer?\n",
    "\n"
   ]
  },
  {
   "cell_type": "code",
   "execution_count": null,
   "metadata": {
    "collapsed": true
   },
   "outputs": [],
   "source": [
    "# Figure out how to raise a number to a power e.g., find its square\n",
    "\n"
   ]
  },
  {
   "cell_type": "code",
   "execution_count": null,
   "metadata": {
    "collapsed": true
   },
   "outputs": [],
   "source": [
    "# How would you get the square root?\n",
    "\n"
   ]
  },
  {
   "cell_type": "markdown",
   "metadata": {},
   "source": [
    "___\n",
    "### Loops"
   ]
  },
  {
   "cell_type": "code",
   "execution_count": 37,
   "metadata": {
    "collapsed": false
   },
   "outputs": [
    {
     "name": "stdout",
     "output_type": "stream",
     "text": [
      "Coors Light\n",
      "Budweiser\n",
      "Red Truck\n"
     ]
    }
   ],
   "source": [
    "# Looping over a list\n",
    "\n",
    "beers = ['Coors Light', 'Budweiser', 'Red Truck']\n",
    "for beer in beers:\n",
    "    print(beer)"
   ]
  },
  {
   "cell_type": "code",
   "execution_count": 39,
   "metadata": {
    "collapsed": false
   },
   "outputs": [
    {
     "name": "stdout",
     "output_type": "stream",
     "text": [
      "10\n",
      "11\n",
      "12\n",
      "13\n"
     ]
    }
   ],
   "source": [
    "# Looping over a range\n",
    "\n",
    "for i in range(10, 14):\n",
    "    print(i)"
   ]
  },
  {
   "cell_type": "code",
   "execution_count": null,
   "metadata": {
    "collapsed": true
   },
   "outputs": [],
   "source": [
    "# Re-create the output from the range loop above\n",
    "# by iterating over a list\n",
    "\n"
   ]
  },
  {
   "cell_type": "code",
   "execution_count": null,
   "metadata": {
    "collapsed": true
   },
   "outputs": [],
   "source": [
    "# Use a loop to count the number of items in this list:\n",
    "\n",
    "languages = ['Python', 'R', 'C++', 'Pearl', 'PHP']"
   ]
  },
  {
   "cell_type": "code",
   "execution_count": null,
   "metadata": {
    "collapsed": true
   },
   "outputs": [],
   "source": [
    "# Use a loop to print the items in the above list that\n",
    "# start with the letter 'P'\n",
    "\n"
   ]
  },
  {
   "cell_type": "code",
   "execution_count": 42,
   "metadata": {
    "collapsed": false
   },
   "outputs": [
    {
     "name": "stdout",
     "output_type": "stream",
     "text": [
      "Nickelback\n",
      "Ed Sheeran\n",
      "Bieber\n"
     ]
    }
   ],
   "source": [
    "# Iterating over a dictionary\n",
    "\n",
    "pop_artists = {'Ed Sheeran': 'good', 'Bieber': 'crap', 'Nickelback': 'the worst'}\n",
    "\n",
    "for key in pop_artists.keys():\n",
    "    print(key)"
   ]
  },
  {
   "cell_type": "code",
   "execution_count": null,
   "metadata": {
    "collapsed": true
   },
   "outputs": [],
   "source": [
    "# Iterate through the pop_artists dictionary\n",
    "# using .values() and then use .items()\n",
    "\n"
   ]
  },
  {
   "cell_type": "markdown",
   "metadata": {},
   "source": [
    "___\n",
    "### Bonus: Modulo Operator"
   ]
  },
  {
   "cell_type": "code",
   "execution_count": 22,
   "metadata": {
    "collapsed": false
   },
   "outputs": [
    {
     "name": "stdout",
     "output_type": "stream",
     "text": [
      "remainder of 4 and 2: 0\n",
      "remainder of 4 and 3: 1\n"
     ]
    }
   ],
   "source": [
    "# Getting the remainder of a division\n",
    "\n",
    "mod_6_2 = 4 % 2\n",
    "print('remainder of 4 and 2:', mod_4_2)\n",
    "\n",
    "mod_4_3 = 4 % 3\n",
    "print('remainder of 4 and 3:', mod_4_3)"
   ]
  },
  {
   "cell_type": "code",
   "execution_count": 32,
   "metadata": {
    "collapsed": false
   },
   "outputs": [
    {
     "name": "stdout",
     "output_type": "stream",
     "text": [
      "2 - even number\n",
      "4 - even number\n",
      "4 - multiple of 4\n",
      "6 - even number\n",
      "8 - even number\n",
      "8 - multiple of 4\n"
     ]
    }
   ],
   "source": [
    "# Using the modulo operator in practice\n",
    "\n",
    "for i in [1, 2, 3, 4, 5, 6, 7, 8]:\n",
    "    \n",
    "    if i % 2 == 0:\n",
    "        print(i, '- even number')\n",
    "        \n",
    "    if i % 4 == 0:\n",
    "        print(i, '- multiple of 4')"
   ]
  },
  {
   "cell_type": "code",
   "execution_count": null,
   "metadata": {
    "collapsed": true
   },
   "outputs": [],
   "source": [
    "# Use the modulo operator to print only odd\n",
    "# numbers from 1 to 10\n",
    "\n"
   ]
  },
  {
   "cell_type": "markdown",
   "metadata": {},
   "source": [
    "___\n",
    "### Bonus: Inherent Truthiness"
   ]
  },
  {
   "cell_type": "code",
   "execution_count": 86,
   "metadata": {
    "collapsed": false,
    "scrolled": true
   },
   "outputs": [
    {
     "name": "stdout",
     "output_type": "stream",
     "text": [
      "0 is False\n",
      "84 is True\n"
     ]
    }
   ],
   "source": [
    "# Variable truthiness can be seen with the bool function\n",
    "\n",
    "a = 0\n",
    "print(a, 'is', bool(a))\n",
    "\n",
    "b = 84\n",
    "print(b, 'is', bool(b))"
   ]
  },
  {
   "cell_type": "code",
   "execution_count": null,
   "metadata": {
    "collapsed": true
   },
   "outputs": [],
   "source": [
    "# What is the string equivalent of this idea?\n",
    "\n"
   ]
  },
  {
   "cell_type": "code",
   "execution_count": 94,
   "metadata": {
    "collapsed": false
   },
   "outputs": [
    {
     "name": "stdout",
     "output_type": "stream",
     "text": [
      "[] is False\n",
      "[1, 3, 4] is True\n"
     ]
    }
   ],
   "source": [
    "# Lists have inderent truthiness too\n",
    "\n",
    "\n",
    "a = []\n",
    "print(a, 'is', bool(a))\n",
    "\n",
    "b = [1, 3, 4]\n",
    "print(b, 'is', bool(b))"
   ]
  },
  {
   "cell_type": "code",
   "execution_count": null,
   "metadata": {
    "collapsed": true
   },
   "outputs": [],
   "source": [
    "# Can this be extended to dictionaries as well?\n",
    "\n"
   ]
  },
  {
   "cell_type": "code",
   "execution_count": 33,
   "metadata": {
    "collapsed": false
   },
   "outputs": [
    {
     "name": "stdout",
     "output_type": "stream",
     "text": [
      "The world is boring\n"
     ]
    }
   ],
   "source": [
    "# One practical applicaiton of this is in if statements\n",
    "\n",
    "a = []\n",
    "if a:\n",
    "    print('The world is crazy')\n",
    "else:\n",
    "    print('The world is boring')"
   ]
  },
  {
   "cell_type": "code",
   "execution_count": 98,
   "metadata": {
    "collapsed": false
   },
   "outputs": [
    {
     "name": "stdout",
     "output_type": "stream",
     "text": [
      "* warning * empty string\n"
     ]
    }
   ],
   "source": [
    "# Another example\n",
    "\n",
    "a = ''\n",
    "if not a:\n",
    "    print('* warning * empty string')"
   ]
  },
  {
   "cell_type": "code",
   "execution_count": null,
   "metadata": {
    "collapsed": true
   },
   "outputs": [],
   "source": [
    "# Define a True variable of any kind then use an if statement\n",
    "# to make it a False variable of the same datatype. Test by\n",
    "# calling bool(variable) after the if statement\n",
    "\n"
   ]
  }
 ],
 "metadata": {
  "anaconda-cloud": {},
  "kernelspec": {
   "display_name": "Python [default]",
   "language": "python",
   "name": "python3"
  },
  "language_info": {
   "codemirror_mode": {
    "name": "ipython",
    "version": 3
   },
   "file_extension": ".py",
   "mimetype": "text/x-python",
   "name": "python",
   "nbconvert_exporter": "python",
   "pygments_lexer": "ipython3",
   "version": "3.5.2"
  }
 },
 "nbformat": 4,
 "nbformat_minor": 1
}
