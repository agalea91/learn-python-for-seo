{
 "cells": [
  {
   "cell_type": "markdown",
   "metadata": {},
   "source": [
    "# Learn Python for SEO\n",
    "Author: Alex Galea   \n",
    "Date: November 2016"
   ]
  },
  {
   "cell_type": "code",
   "execution_count": 13,
   "metadata": {
    "collapsed": false
   },
   "outputs": [
    {
     "name": "stdout",
     "output_type": "stream",
     "text": [
      "Python version: 3.5\n"
     ]
    }
   ],
   "source": [
    "import sys\n",
    "print('Python version: %s.%s' % (sys.version_info.major, sys.version_info.minor))"
   ]
  },
  {
   "cell_type": "markdown",
   "metadata": {
    "collapsed": true
   },
   "source": [
    "___\n",
    "## Tutorial 1: Introduction to Python\n",
    "\n",
    " - How to install\n",
    " - Programming fundamentals\n",
    " - What makes Python different from other languages\n",
    " - Why bother learning to program?"
   ]
  },
  {
   "cell_type": "markdown",
   "metadata": {},
   "source": [
    "___\n",
    "### Installation\n",
    "\n",
    "We'll use the Anaconda distribution of Python 3, which also installs important non-standard Python libraries such as numpy, pandas, and matplotlib. Also, you will be able to use and create ipython notebooks like this one!"
   ]
  },
  {
   "cell_type": "markdown",
   "metadata": {},
   "source": [
    "___\n",
    "### Programming Fundamentals\n",
    "\n",
    "Unfortunately, many programming languages exist. All languages are designed to be a higher-level abstraction for doing binary operations inside your computer. Some of the first popular languages like Fortran and C were (not so long ago) considered to be high-level, but newer and more abstract languages such as Python and R have taken that title and relegated these to have low-level status.\n",
    "\n",
    "To better understand how Python fits in among the other languages, it's important to understand that each of them was created with certain desired applications and user-experience considerations in mind. Often balancing these things is a tradeoff. For example, Python is very user friendly but not as fast as C or C++.  Going from old to new (roughly speaking) the paying field looks something like this:\n",
    " - __Fortran__: very fast functional languge, still used in the scientific community\n",
    " - __C__: like fortran but allows for more control over memory (pointers), which can be exploited by hackers\n",
    " - __C++__: adding classes to C (object-oriented programming), Python is built on C++\n",
    " - __Java__: more user friendly version of C++ with less control over memory allocation (therefore also slower)\n",
    " - __R__: high level functional language build for statistical data analysis\n",
    " - __Python__: high level functional and object oriented language, built to be multipurpose and extensible through external libraries"
   ]
  },
  {
   "cell_type": "markdown",
   "metadata": {},
   "source": [
    "___\n",
    "### Why is Python Different?\n",
    "\n",
    "- Code is compiled during runtime   \n",
    "\n",
    "With C, you must compile your code to create an executable that can be run. Python scripts can be run direectly.\n",
    "\n",
    "- Good code formatting is a must"
   ]
  },
  {
   "cell_type": "code",
   "execution_count": 3,
   "metadata": {
    "collapsed": false
   },
   "outputs": [
    {
     "ename": "IndentationError",
     "evalue": "unindent does not match any outer indentation level (<ipython-input-3-e7b733b7c0f9>, line 5)",
     "output_type": "error",
     "traceback": [
      "\u001b[0;36m  File \u001b[0;32m\"<ipython-input-3-e7b733b7c0f9>\"\u001b[0;36m, line \u001b[0;32m5\u001b[0m\n\u001b[0;31m    print (sum)\u001b[0m\n\u001b[0m               ^\u001b[0m\n\u001b[0;31mIndentationError\u001b[0m\u001b[0;31m:\u001b[0m unindent does not match any outer indentation level\n"
     ]
    }
   ],
   "source": [
    "# This is invalid and will not run\n",
    "sum = 0\n",
    "for i in [1, 2, 3]:\n",
    "            sum = sum + 1\n",
    "      print (sum)"
   ]
  },
  {
   "cell_type": "code",
   "execution_count": 4,
   "metadata": {
    "collapsed": false
   },
   "outputs": [
    {
     "name": "stdout",
     "output_type": "stream",
     "text": [
      "1\n",
      "2\n",
      "3\n"
     ]
    }
   ],
   "source": [
    "# This is okay\n",
    "sum = 0\n",
    "for i in [1, 2, 3]:\n",
    "    sum = sum + 1\n",
    "    print (sum)"
   ]
  },
  {
   "cell_type": "markdown",
   "metadata": {},
   "source": [
    "- Variable types are interpreted"
   ]
  },
  {
   "cell_type": "code",
   "execution_count": 5,
   "metadata": {
    "collapsed": true
   },
   "outputs": [],
   "source": [
    "a = 84\n",
    "# a is an integer\n",
    "\n",
    "a = 'eighty four'\n",
    "# a is now a string"
   ]
  },
  {
   "cell_type": "markdown",
   "metadata": {},
   "source": [
    "- Tasks require less code (and less work) because of built-in functions"
   ]
  },
  {
   "cell_type": "code",
   "execution_count": 6,
   "metadata": {
    "collapsed": false
   },
   "outputs": [
    {
     "data": {
      "text/plain": [
       "[1, 2, 3, 3, 4, 5]"
      ]
     },
     "execution_count": 6,
     "metadata": {},
     "output_type": "execute_result"
    }
   ],
   "source": [
    "# e.g. sorting a list\n",
    "a = [4, 3, 5, 3, 1, 2]\n",
    "print(sorted(a))"
   ]
  },
  {
   "cell_type": "markdown",
   "metadata": {},
   "source": [
    "___\n",
    "### Why Bother Learning Python?\n",
    "- impress your friends and prospective partners\n",
    "- the best first programming language to learn -> transferable skills to other languages\n",
    "- to understand code you might encounter\n",
    "- to write your own scripts that solve any problem you have"
   ]
  },
  {
   "cell_type": "code",
   "execution_count": null,
   "metadata": {
    "collapsed": true
   },
   "outputs": [],
   "source": []
  }
 ],
 "metadata": {
  "anaconda-cloud": {},
  "kernelspec": {
   "display_name": "Python [default]",
   "language": "python",
   "name": "python3"
  },
  "language_info": {
   "codemirror_mode": {
    "name": "ipython",
    "version": 3
   },
   "file_extension": ".py",
   "mimetype": "text/x-python",
   "name": "python",
   "nbconvert_exporter": "python",
   "pygments_lexer": "ipython3",
   "version": "3.5.2"
  }
 },
 "nbformat": 4,
 "nbformat_minor": 1
}
