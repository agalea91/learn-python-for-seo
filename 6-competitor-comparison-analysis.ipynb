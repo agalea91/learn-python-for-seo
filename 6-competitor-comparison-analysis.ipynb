{
 "cells": [
  {
   "cell_type": "markdown",
   "metadata": {},
   "source": [
    "# Learn Python for SEO\n",
    "Author: Alex Galea   \n",
    "Date: November 2016"
   ]
  },
  {
   "cell_type": "code",
   "execution_count": 1,
   "metadata": {
    "collapsed": false
   },
   "outputs": [
    {
     "name": "stdout",
     "output_type": "stream",
     "text": [
      "Python version: 3.5\n"
     ]
    }
   ],
   "source": [
    "import sys\n",
    "print('Python version: %s.%s' % (sys.version_info.major, sys.version_info.minor))"
   ]
  },
  {
   "cell_type": "markdown",
   "metadata": {
    "collapsed": true
   },
   "source": [
    "___\n",
    "## Tutorial 6: Competitor Comparison Analysis\n",
    "\n",
    "We'll compare Macys with Nordstrom by using pandas dataframes and matplotlib to analyze search keyword data from http://SEMrush.com.\n",
    "\n",
    " - Pandas dataframes\n",
    "     - Loading data\n",
    "     - Viewing dataframe\n",
    "     - Getting rows and columns\n",
    "     - Merging dataframes\n",
    " - Analysis\n",
    "     - Data overview"
   ]
  },
  {
   "cell_type": "markdown",
   "metadata": {},
   "source": [
    "___\n",
    "### Pandas DataFrames"
   ]
  },
  {
   "cell_type": "code",
   "execution_count": null,
   "metadata": {
    "collapsed": true
   },
   "outputs": [],
   "source": []
  }
 ],
 "metadata": {
  "anaconda-cloud": {},
  "kernelspec": {
   "display_name": "Python [default]",
   "language": "python",
   "name": "python3"
  },
  "language_info": {
   "codemirror_mode": {
    "name": "ipython",
    "version": 3
   },
   "file_extension": ".py",
   "mimetype": "text/x-python",
   "name": "python",
   "nbconvert_exporter": "python",
   "pygments_lexer": "ipython3",
   "version": "3.5.2"
  }
 },
 "nbformat": 4,
 "nbformat_minor": 1
}
