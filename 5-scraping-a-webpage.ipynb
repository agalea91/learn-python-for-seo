{
 "cells": [
  {
   "cell_type": "markdown",
   "metadata": {},
   "source": [
    "# Learn Python for SEO\n",
    "Author: Alex Galea   \n",
    "Date: November 2016"
   ]
  },
  {
   "cell_type": "code",
   "execution_count": 1,
   "metadata": {
    "collapsed": false
   },
   "outputs": [
    {
     "name": "stdout",
     "output_type": "stream",
     "text": [
      "Python version: 3.5\n"
     ]
    }
   ],
   "source": [
    "import sys\n",
    "print('Python version: %s.%s' % (sys.version_info.major, sys.version_info.minor))"
   ]
  },
  {
   "cell_type": "markdown",
   "metadata": {
    "collapsed": true
   },
   "source": [
    "___\n",
    "## Tutorial 5: Scraping a Webpage\n",
    "\n",
    "There are many good ways of pulling data from webpages with Python. We'll use the requests library to get the html text and then BeautifulSoup4 to parse it.\n",
    "\n",
    " - Instantiate BeautifulSoup object with webpage data\n",
    " - Get page title and meta-description\n",
    " - Get headings and other text from the page"
   ]
  },
  {
   "cell_type": "markdown",
   "metadata": {},
   "source": [
    "### From Webpage to Python Object"
   ]
  },
  {
   "cell_type": "code",
   "execution_count": null,
   "metadata": {
    "collapsed": true
   },
   "outputs": [],
   "source": [
    "import requests\n",
    "from bs4 import BeautifulSoup"
   ]
  },
  {
   "cell_type": "code",
   "execution_count": null,
   "metadata": {
    "collapsed": true
   },
   "outputs": [],
   "source": [
    "url = 'http://www.fullbeauty.com'\n",
    "page_fb = requests.get(url)"
   ]
  },
  {
   "cell_type": "code",
   "execution_count": 23,
   "metadata": {
    "collapsed": false
   },
   "outputs": [
    {
     "name": "stdout",
     "output_type": "stream",
     "text": [
      "<Response [200]>\n"
     ]
    }
   ],
   "source": [
    "# Response code from request\n",
    "\n",
    "page_fb"
   ]
  },
  {
   "cell_type": "markdown",
   "metadata": {},
   "source": [
    "Looking at the text attribute of the requests object `page`, we can already see the title and meta description we are looking to extract."
   ]
  },
  {
   "cell_type": "code",
   "execution_count": 25,
   "metadata": {
    "collapsed": false
   },
   "outputs": [
    {
     "name": "stdout",
     "output_type": "stream",
     "text": [
      "\r\n",
      "\r\n",
      "<!DOCTYPE html PUBLIC \"-//W3C//DTD XHTML 1.0 Transitional//EN\" \"http://www.w3.org/TR/xhtml1/DTD/xhtml1-transitional.dtd\">\r\n",
      "\r\n",
      "<html xmlns=\"http://www.w3.org/1999/xhtml\" xmlns:fb=\"http://www.facebook.com/2008/fbml\" xmlns:og=\"http://opengraphprotocol.org/schema/\">\r\n",
      "\r\n",
      "<head id=\"ctl00_Head1\"><title>\r\n",
      "\tfullbeauty Official Site - Shop Plus Size Clothing\r\n",
      "</title><meta name=\"description\" content=\"fullbeauty delivers you the best selection on plus size clothing available online. fullbeauty has plus size clothing apparel for women, men and plus size living all in one location. \" /><!-- MAXCHMB OSP_AffiliateTracking_Header --><!-- From Cache CHM3 ContentId: 206776 --><!-- Begin Monetate ExpressTag Sync v8. Place at start of document head. DO NOT ALTER. -->\n",
      "<script type=\"text/javascript\">var monetateT = new Date().getTime();</script>\n",
      "<script type=\"text/javascript\" src=\"//se.monetate.net/js/2/a-7736c7c2/p/fullbeauty.com/entry.js\"></script>\n",
      "\n",
      "<!-- End Monetate tag. -->\n",
      "<!-- Begin Monetate initial\n"
     ]
    }
   ],
   "source": [
    "print(page_fb.text[:1000])"
   ]
  },
  {
   "cell_type": "markdown",
   "metadata": {},
   "source": [
    "We'll convert this text to a a BeautifulSoup object for easy parsing. This can be done with `page.text` but it's better to use the `content` attribute, which contains the html code in byte format."
   ]
  },
  {
   "cell_type": "code",
   "execution_count": 31,
   "metadata": {
    "collapsed": false
   },
   "outputs": [
    {
     "data": {
      "text/plain": [
       "(str, bytes)"
      ]
     },
     "execution_count": 31,
     "metadata": {},
     "output_type": "execute_result"
    }
   ],
   "source": [
    "type(page_fb.text), type(page_fb.content)"
   ]
  },
  {
   "cell_type": "code",
   "execution_count": null,
   "metadata": {
    "collapsed": true
   },
   "outputs": [],
   "source": [
    "soup_fb = BeautifulSoup(page_fb.content, 'html.parser')"
   ]
  },
  {
   "cell_type": "code",
   "execution_count": 9,
   "metadata": {
    "collapsed": true
   },
   "outputs": [],
   "source": [
    "soup = soup_fb"
   ]
  },
  {
   "cell_type": "markdown",
   "metadata": {},
   "source": [
    "As promised, we now have the webpage as a BeautifulSoup object."
   ]
  },
  {
   "cell_type": "code",
   "execution_count": 32,
   "metadata": {
    "collapsed": false
   },
   "outputs": [
    {
     "data": {
      "text/plain": [
       "bs4.BeautifulSoup"
      ]
     },
     "execution_count": 32,
     "metadata": {},
     "output_type": "execute_result"
    }
   ],
   "source": [
    "type(soup)"
   ]
  },
  {
   "cell_type": "markdown",
   "metadata": {},
   "source": [
    "Now let's see what we can do with it."
   ]
  },
  {
   "cell_type": "markdown",
   "metadata": {},
   "source": [
    "___\n",
    "### Getting the Webpage Title"
   ]
  },
  {
   "cell_type": "code",
   "execution_count": 34,
   "metadata": {
    "collapsed": false
   },
   "outputs": [
    {
     "data": {
      "text/plain": [
       "[<title>\n",
       " \tfullbeauty Official Site - Shop Plus Size Clothing\n",
       " </title>]"
      ]
     },
     "execution_count": 34,
     "metadata": {},
     "output_type": "execute_result"
    }
   ],
   "source": [
    "# Find all title tags on the page\n",
    "\n",
    "soup.findAll('title')"
   ]
  },
  {
   "cell_type": "code",
   "execution_count": 49,
   "metadata": {
    "collapsed": false
   },
   "outputs": [
    {
     "data": {
      "text/plain": [
       "'fullbeauty Official Site - Shop Plus Size Clothing'"
      ]
     },
     "execution_count": 49,
     "metadata": {},
     "output_type": "execute_result"
    }
   ],
   "source": [
    "# Get the text\n",
    "\n",
    "title = soup.findAll('title')[0].text.strip()\n",
    "title"
   ]
  },
  {
   "cell_type": "markdown",
   "metadata": {},
   "source": [
    "___\n",
    "### Getting the Meta Description"
   ]
  },
  {
   "cell_type": "code",
   "execution_count": 35,
   "metadata": {
    "collapsed": false
   },
   "outputs": [
    {
     "data": {
      "text/plain": [
       "[<meta content=\"fullbeauty delivers you the best selection on plus size clothing available online. fullbeauty has plus size clothing apparel for women, men and plus size living all in one location. \" name=\"description\"/>,\n",
       " <meta content=\"3a3454312b35dde2763c7a848091ac57\" name=\"p:domain_verify\"/>,\n",
       " <meta content=\"Gt5b0rw1xkxDChb5nnuib4hC6cg-7va0m-VjOhlqlOk\" name=\"google-site-verification\"/>,\n",
       " <meta content=\"https://www.facebook.com/pages/fullbeauty/248083818548669\" itemprop=\"sameAs\"/>,\n",
       " <meta content=\"https://twitter.com/fullbeautystyle\" itemprop=\"sameAs\"/>,\n",
       " <meta content=\"https://www.pinterest.com/fullbeautystyle/\" itemprop=\"sameAs\"/>,\n",
       " <meta content=\"https://plus.google.com/+Fullbeautystyle/\" itemprop=\"sameAs\"/>,\n",
       " <meta content=\" https://www.youtube.com/channel/UCBQwBS7I72sXIphAQKlGp9w \" itemprop=\"sameAs\"/>,\n",
       " <meta content=\"index,follow,noydir,noodp\" name=\"robots\"/>,\n",
       " <meta content=\"com, es\" name=\"language\"/>,\n",
       " <meta content=\"fullbeauty.com\" name=\"author\"/>,\n",
       " <meta content=\"text/html; charset=utf-8\" http-equiv=\"Content-Type\"/>,\n",
       " <meta content=\"plus size clothing, clothes, clothing, plus size apparel, apparel, casual clothing, comfortable clothing, plus sizes for women, plus size fashion, plus size clothes, plus size dresses, plus size tops, casual clothes, comfortable clothes, mens clothing, womens clothing, plus size living, plus size, plus size fashion trends, plus size online fashion retailer, fashion retailer\" name=\"Keywords\"/>]"
      ]
     },
     "execution_count": 35,
     "metadata": {},
     "output_type": "execute_result"
    }
   ],
   "source": [
    "# Find all meta tags on the page\n",
    "\n",
    "soup.findAll('meta')"
   ]
  },
  {
   "cell_type": "code",
   "execution_count": 36,
   "metadata": {
    "collapsed": false
   },
   "outputs": [
    {
     "data": {
      "text/plain": [
       "[<meta content=\"fullbeauty delivers you the best selection on plus size clothing available online. fullbeauty has plus size clothing apparel for women, men and plus size living all in one location. \" name=\"description\"/>]"
      ]
     },
     "execution_count": 36,
     "metadata": {},
     "output_type": "execute_result"
    }
   ],
   "source": [
    "# Find the description meta tag\n",
    "\n",
    "soup.findAll('meta', {'name': 'description'})"
   ]
  },
  {
   "cell_type": "code",
   "execution_count": 59,
   "metadata": {
    "collapsed": false
   },
   "outputs": [
    {
     "data": {
      "text/plain": [
       "<meta content=\"fullbeauty delivers you the best selection on plus size clothing available online. fullbeauty has plus size clothing apparel for women, men and plus size living all in one location. \" name=\"description\"/>"
      ]
     },
     "execution_count": 59,
     "metadata": {},
     "output_type": "execute_result"
    }
   ],
   "source": [
    "# Get the text\n",
    "\n",
    "meta_description = soup.findAll('meta', {'name': 'description'})[0]\n",
    "meta_description"
   ]
  },
  {
   "cell_type": "code",
   "execution_count": 99,
   "metadata": {
    "collapsed": false
   },
   "outputs": [],
   "source": [
    "# What happens when you call meta_description.text ?\n",
    "\n"
   ]
  },
  {
   "cell_type": "code",
   "execution_count": 101,
   "metadata": {
    "collapsed": false
   },
   "outputs": [],
   "source": [
    "# It looks like we'll have to find another way to parse it. Below the\n",
    "# object has been converted to a string. Try using the split function\n",
    "# to manually parse the text we are interested in and assign it to \n",
    "# a variable.\n",
    "\n",
    "meta_description = str(meta_description)"
   ]
  },
  {
   "cell_type": "markdown",
   "metadata": {},
   "source": [
    "___\n",
    "### Getting the Headings\n",
    "\n",
    "Let's open a new webpage to use for the remainder of the tutorial. It contains a \"top 10\" list of knife products that we will put into a list. First though let's get the headings."
   ]
  },
  {
   "cell_type": "code",
   "execution_count": null,
   "metadata": {
    "collapsed": true
   },
   "outputs": [],
   "source": [
    "url = 'http://www1.macys.com/cms/ce/splash/kitchen/cutlery-buying-guide'\n",
    "page_macys = requests.get(url)\n",
    "soup_macys = BeautifulSoup(page_macys.content, 'html.parser')"
   ]
  },
  {
   "cell_type": "code",
   "execution_count": 102,
   "metadata": {
    "collapsed": true
   },
   "outputs": [],
   "source": [
    "soup = soup_macys"
   ]
  },
  {
   "cell_type": "code",
   "execution_count": 105,
   "metadata": {
    "collapsed": false
   },
   "outputs": [
    {
     "data": {
      "text/plain": [
       "[<h1>keep your kitchen on point</h1>]"
      ]
     },
     "execution_count": 105,
     "metadata": {},
     "output_type": "execute_result"
    }
   ],
   "source": [
    "soup.findAll('h1')"
   ]
  },
  {
   "cell_type": "code",
   "execution_count": 116,
   "metadata": {
    "collapsed": false
   },
   "outputs": [
    {
     "data": {
      "text/plain": [
       "[<h2>find the knives you need to get the job done right.</h2>]"
      ]
     },
     "execution_count": 116,
     "metadata": {},
     "output_type": "execute_result"
    }
   ],
   "source": [
    "soup.findAll('h2')"
   ]
  },
  {
   "cell_type": "code",
   "execution_count": 124,
   "metadata": {
    "collapsed": false
   },
   "outputs": [
    {
     "data": {
      "text/plain": [
       "{'h1': [<h1>keep your kitchen on point</h1>],\n",
       " 'h2': [<h2>find the knives you need to get the job done right.</h2>],\n",
       " 'h3': [<h3>8” CHEF'S KNIFE</h3>,\n",
       "  <h3>3” or 4” PARING KNIFE</h3>,\n",
       "  <h3>8” BREAD KNIFE</h3>,\n",
       "  <h3>7” SANTOKU KNIFE</h3>,\n",
       "  <h3>8” CARVING KNIFE</h3>,\n",
       "  <h3>6” UTILITY KNIFE</h3>,\n",
       "  <h3>5” SERRATED UTILITY KNIFE</h3>,\n",
       "  <h3>7” FILLET KNIFE</h3>,\n",
       "  <h3>7” CLEAVER</h3>,\n",
       "  <h3>5½” BONING KNIFE</h3>],\n",
       " 'h4': [<h4>cutting-edge talent</h4>],\n",
       " 'h5': [<h5>these names have serious chops—stock your space now.</h5>]}"
      ]
     },
     "execution_count": 124,
     "metadata": {},
     "output_type": "execute_result"
    }
   ],
   "source": [
    "# We'll store all the headings in a dictionary\n",
    "\n",
    "headings = {}\n",
    "for h in ['h1', 'h2', 'h3', 'h4', 'h5']:\n",
    "    headings[h] = soup.findAll(h)\n",
    "    \n",
    "headings"
   ]
  },
  {
   "cell_type": "code",
   "execution_count": 126,
   "metadata": {
    "collapsed": false
   },
   "outputs": [
    {
     "data": {
      "text/plain": [
       "{'h1': ['keep your kitchen on point'],\n",
       " 'h2': ['find the knives you need to get the job done right.'],\n",
       " 'h3': [\"8” CHEF'S KNIFE\",\n",
       "  '3” or 4” PARING KNIFE',\n",
       "  '8” BREAD KNIFE',\n",
       "  '7” SANTOKU KNIFE',\n",
       "  '8” CARVING KNIFE',\n",
       "  '6” UTILITY KNIFE',\n",
       "  '5” SERRATED UTILITY KNIFE',\n",
       "  '7” FILLET KNIFE',\n",
       "  '7” CLEAVER',\n",
       "  '5½” BONING KNIFE'],\n",
       " 'h4': ['cutting-edge talent'],\n",
       " 'h5': ['these names have serious chops—stock your space now.']}"
      ]
     },
     "execution_count": 126,
     "metadata": {},
     "output_type": "execute_result"
    }
   ],
   "source": [
    "# Iterate through the dictionary parsing the text from\n",
    "# the soup objects in each list\n",
    "\n",
    "temp_dict = {}\n",
    "for key, value in headings.items():\n",
    "    \n",
    "    temp_value = []\n",
    "    for v in value:\n",
    "        temp_value.append(v.text)\n",
    "    \n",
    "    temp_dict[key] = temp_value\n",
    "\n",
    "headings = temp_dict\n",
    "headings"
   ]
  },
  {
   "cell_type": "markdown",
   "metadata": {},
   "source": [
    "___\n",
    "### Getting Other Body Text\n",
    "\n",
    "We notice that the top 10 knives have already been found as they were wrapped in h3 tags. However, there is also a description available for each that we would like to get."
   ]
  },
  {
   "cell_type": "code",
   "execution_count": 128,
   "metadata": {
    "collapsed": false
   },
   "outputs": [
    {
     "data": {
      "text/plain": [
       "76"
      ]
     },
     "execution_count": 128,
     "metadata": {},
     "output_type": "execute_result"
    }
   ],
   "source": [
    "# How many div tags do we find?\n",
    "\n",
    "len(soup.findAll('div'))"
   ]
  },
  {
   "cell_type": "markdown",
   "metadata": {},
   "source": [
    "Searching for the div tag, we find a a lot of elements. By finding the relevent section in the html source, we notice that our div section for the top 10 list has the id \"cutleryguide-container\"."
   ]
  },
  {
   "cell_type": "code",
   "execution_count": 133,
   "metadata": {
    "collapsed": false
   },
   "outputs": [],
   "source": [
    "# Use findAll to search for the div tag containing the specified id\n",
    "# and store it in a variable named top10\n",
    "# hint: see the meta description example above\n",
    "\n"
   ]
  },
  {
   "cell_type": "code",
   "execution_count": 140,
   "metadata": {
    "collapsed": false
   },
   "outputs": [],
   "source": [
    "top10 = soup.findAll('div', {'id': 'cutleryguide-container'})[0]"
   ]
  },
  {
   "cell_type": "code",
   "execution_count": null,
   "metadata": {
    "collapsed": true
   },
   "outputs": [],
   "source": [
    "top10"
   ]
  },
  {
   "cell_type": "markdown",
   "metadata": {},
   "source": [
    "Since each element returned by the `findAll` method is another soup object, we can call `findAll` again. Since we notice that the descriptions are contained in `<p>` paragraph tags, we can get them easily."
   ]
  },
  {
   "cell_type": "code",
   "execution_count": 146,
   "metadata": {
    "collapsed": false
   },
   "outputs": [
    {
     "data": {
      "text/plain": [
       "[<p>The most versatile addition to your kitchen features a gently curved blade that's ideal for chopping, mincing &amp; most cooking tasks.</p>,\n",
       " <p>Equipped with a straight edge that feels like an extension of the hand, the paring knife delivers precision when cutting small foods.</p>,\n",
       " <p>Made to glide right through crusty breads, this long blade has a serrated edge that neatly slices without denting or crushing.</p>,\n",
       " <p>The Japanese knife perfects thin, delicate slicing with a lighter, harder blade. A hollow edge decreases friction for precise results.</p>,\n",
       " <p>Ranging from rigid to flexible, this thinner blade is cut out for carving poultry, hams, roasts and other large cuts of meat.</p>,\n",
       " <p>The utility knife is your on-call companion, expertly mincing, peeling &amp; carving vegetables &amp; fruits.</p>,\n",
       " <p>Great for food that is soft on the outside &amp; firm on the inside, this mid-size blade was made to prep everything from tomatoes to sausages.</p>,\n",
       " <p>Effortlessly fillet fish &amp; gently slice other delicate foods with this slender blade. The design gives you incredible control when deboning meat &amp; poultry.</p>,\n",
       " <p>This heavy-duty knife has a wide, thick blade &amp; a chip-resistant edge that can do the hard work, like cutting through bones, joints &amp; other tough areas.</p>,\n",
       " <p>No bones about it—meat comes clean with a boning knife, which features a narrow blade that easily removes small bones.</p>]"
      ]
     },
     "execution_count": 146,
     "metadata": {},
     "output_type": "execute_result"
    }
   ],
   "source": [
    "top10_descriptions = top10.findAll('p')\n",
    "top10_descriptions"
   ]
  },
  {
   "cell_type": "markdown",
   "metadata": {},
   "source": [
    "As we did earlier for the dictionary, we could loop over the list extracting the text from each element. Instead though, let's do this using a so called _list comprehension_."
   ]
  },
  {
   "cell_type": "code",
   "execution_count": 147,
   "metadata": {
    "collapsed": false
   },
   "outputs": [
    {
     "data": {
      "text/plain": [
       "[\"The most versatile addition to your kitchen features a gently curved blade that's ideal for chopping, mincing & most cooking tasks.\",\n",
       " 'Equipped with a straight edge that feels like an extension of the hand, the paring knife delivers precision when cutting small foods.',\n",
       " 'Made to glide right through crusty breads, this long blade has a serrated edge that neatly slices without denting or crushing.',\n",
       " 'The Japanese knife perfects thin, delicate slicing with a lighter, harder blade. A hollow edge decreases friction for precise results.',\n",
       " 'Ranging from rigid to flexible, this thinner blade is cut out for carving poultry, hams, roasts and other large cuts of meat.',\n",
       " 'The utility knife is your on-call companion, expertly mincing, peeling & carving vegetables & fruits.',\n",
       " 'Great for food that is soft on the outside & firm on the inside, this mid-size blade was made to prep everything from tomatoes to sausages.',\n",
       " 'Effortlessly fillet fish & gently slice other delicate foods with this slender blade. The design gives you incredible control when deboning meat & poultry.',\n",
       " 'This heavy-duty knife has a wide, thick blade & a chip-resistant edge that can do the hard work, like cutting through bones, joints & other tough areas.',\n",
       " 'No bones about it—meat comes clean with a boning knife, which features a narrow blade that easily removes small bones.']"
      ]
     },
     "execution_count": 147,
     "metadata": {},
     "output_type": "execute_result"
    }
   ],
   "source": [
    "top10_descriptions = [element.text for element in top10_descriptions]\n",
    "top10_descriptions"
   ]
  },
  {
   "cell_type": "markdown",
   "metadata": {},
   "source": [
    "Now we just need to link these up with the knife names and assign the correct ranks based on order."
   ]
  },
  {
   "cell_type": "code",
   "execution_count": 153,
   "metadata": {
    "collapsed": true
   },
   "outputs": [],
   "source": [
    "top10_knives = [(rank, knife, description) for rank, knife, description\n",
    "                in zip(range(1,11), headings['h3'], top10_descriptions)]"
   ]
  },
  {
   "cell_type": "code",
   "execution_count": 154,
   "metadata": {
    "collapsed": false
   },
   "outputs": [
    {
     "data": {
      "text/plain": [
       "[(1,\n",
       "  \"8” CHEF'S KNIFE\",\n",
       "  \"The most versatile addition to your kitchen features a gently curved blade that's ideal for chopping, mincing & most cooking tasks.\"),\n",
       " (2,\n",
       "  '3” or 4” PARING KNIFE',\n",
       "  'Equipped with a straight edge that feels like an extension of the hand, the paring knife delivers precision when cutting small foods.'),\n",
       " (3,\n",
       "  '8” BREAD KNIFE',\n",
       "  'Made to glide right through crusty breads, this long blade has a serrated edge that neatly slices without denting or crushing.'),\n",
       " (4,\n",
       "  '7” SANTOKU KNIFE',\n",
       "  'The Japanese knife perfects thin, delicate slicing with a lighter, harder blade. A hollow edge decreases friction for precise results.'),\n",
       " (5,\n",
       "  '8” CARVING KNIFE',\n",
       "  'Ranging from rigid to flexible, this thinner blade is cut out for carving poultry, hams, roasts and other large cuts of meat.'),\n",
       " (6,\n",
       "  '6” UTILITY KNIFE',\n",
       "  'The utility knife is your on-call companion, expertly mincing, peeling & carving vegetables & fruits.'),\n",
       " (7,\n",
       "  '5” SERRATED UTILITY KNIFE',\n",
       "  'Great for food that is soft on the outside & firm on the inside, this mid-size blade was made to prep everything from tomatoes to sausages.'),\n",
       " (8,\n",
       "  '7” FILLET KNIFE',\n",
       "  'Effortlessly fillet fish & gently slice other delicate foods with this slender blade. The design gives you incredible control when deboning meat & poultry.'),\n",
       " (9,\n",
       "  '7” CLEAVER',\n",
       "  'This heavy-duty knife has a wide, thick blade & a chip-resistant edge that can do the hard work, like cutting through bones, joints & other tough areas.'),\n",
       " (10,\n",
       "  '5½” BONING KNIFE',\n",
       "  'No bones about it—meat comes clean with a boning knife, which features a narrow blade that easily removes small bones.')]"
      ]
     },
     "execution_count": 154,
     "metadata": {},
     "output_type": "execute_result"
    }
   ],
   "source": [
    "top10_knives"
   ]
  },
  {
   "cell_type": "code",
   "execution_count": 155,
   "metadata": {
    "collapsed": true
   },
   "outputs": [],
   "source": [
    "# Use indexing to access the 7\" CLEAVER description from the top10_knives list.\n",
    "\n"
   ]
  }
 ],
 "metadata": {
  "anaconda-cloud": {},
  "kernelspec": {
   "display_name": "Python [default]",
   "language": "python",
   "name": "python3"
  },
  "language_info": {
   "codemirror_mode": {
    "name": "ipython",
    "version": 3
   },
   "file_extension": ".py",
   "mimetype": "text/x-python",
   "name": "python",
   "nbconvert_exporter": "python",
   "pygments_lexer": "ipython3",
   "version": "3.5.2"
  }
 },
 "nbformat": 4,
 "nbformat_minor": 1
}
